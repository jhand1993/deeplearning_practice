{
 "cells": [
  {
   "cell_type": "code",
   "execution_count": 1,
   "metadata": {},
   "outputs": [
    {
     "name": "stdout",
     "output_type": "stream",
     "text": [
      "Using mps.\n"
     ]
    }
   ],
   "source": [
    "import importlib\n",
    "\n",
    "# from torch.utils.data import DataLoader, random_split\n",
    "from torch import cuda, nn, optim, concat\n",
    "from torch.backends import mps\n",
    "\n",
    "import matplotlib.pyplot as plt\n",
    "from mpl_toolkits.mplot3d import Axes3D\n",
    "from numpy import argmax\n",
    "from sklearn.cluster import KMeans  #, SpectralClustering, HDBSCAN\n",
    "\n",
    "import datasets.mnist_loader as ml\n",
    "from ptmodels import vae_pytorch as vp\n",
    "from plotting import ae_plots\n",
    "\n",
    "# Use a gpu or M1 chipset to train PyTorch networks if you have it.\n",
    "if cuda.is_available():\n",
    "    device = 'cuda'\n",
    "\n",
    "elif mps.is_available():\n",
    "    device = 'mps'\n",
    "\n",
    "else: \n",
    "    device = 'cpu'\n",
    "\n",
    "print(f'Using {device}.')\n",
    "\n",
    "%matplotlib widget"
   ]
  },
  {
   "cell_type": "markdown",
   "metadata": {},
   "source": [
    "# Project 2: Autoencoders and Variational Autoencoders.\n",
    "In this project, we are going to first implement a couple autoencoders trained on MNIST-compatible data sets for dimensionality reduction. Afterwards, we'll then create a generative model using a variational autoencoder. \n",
    "\n",
    "## Project 2.1: Autoencoders for Dimensionality Reduction.\n",
    "High dimensionality data frequently has more dimensions than is needed to perform regression, classification, or clustering.  More formally, there is a lot of covariance within most data, covariance that reduces the intrinsic dimensionality of the data set.  Think of image data --- a $128 \\times 128$ pixel image can be thought of as a vector $\\mathbf{x}$ which resides in a $416384$-dimensional vector space. That does not mean there are $416384$ unique features.  Intuitively, we know there are less features in the data, and those features are captured by correlations between pixels.  In other words, we could find a mapping from the starting representation $\\mathbf{x}$ to a reduced-dimension latent representation $\\mathbf{z}\\in \\mathcal{R}^m$, where hopefully $m \\ll 16384$.  We can then use more approachable latent representation $\\mathbf{z}\\in \\mathcal{Z}$ to analyze the starting dataset $\\mathbf{x}\\in \\mathcal{X}$.\n",
    "\n",
    "An autoencoder does this by finding three things: a latent representation $\\mathbf{z}\\in \\mathcal{Z}$, an encoding function $E_{\\phi}(\\mathbf{x})=\\mathbf{z}$ parameterized by $\\phi$, and a decoding function $D_{\\theta}(\\mathbf{z})=\\mathbf{x}$ parameterized by $\\theta$. Here, we will simultaneously train two dense, multi-layer perceptrons to estimate functions $E_{\\phi}$ and $D_{\\theta}$, recovering the latent space $\\mathcal{Z}$ in the process. \n",
    "\n",
    "Training the perceptron networks requires a loss function.  Although the data we are training on is labeled, we will not be using them.  Instead, we are going to perform unsupervised learning.  Specifically, we'll are going to optimize by minimizing the 'distance' between the starting vector $\\mathbf{x}$ and its predicted decoding $D_{\\phi}(E_{\\theta}(\\mathbf{x}))$: \n",
    "\n",
    "$L(\\mathcal{X}|\\phi, \\theta)=-\\frac{1}{N}\\sum^N_{i=1}L_2[\\mathbf{x}_i, D_{\\phi}(E_{\\theta}(\\mathbf{x}_i))]$\n",
    "\n",
    "where $N$ is the size of the training data sample $\\mathcal{X}$ and $L_2(\\mathbf{x}, \\mathbf{x}^{\\prime})=|| \\mathbf{x} - \\mathbf{x}^{\\prime} ||^2$ is the L2 loss (basically, the Euclidian distance up to some multiplicative constant). To train, we will minimize $L(\\mathcal{X}|\\phi, \\theta)$ with respect to the parameters $\\phi$ and $\\theta$.\n",
    "\n",
    "Enough math.  Let's start setting up the model to train!"
   ]
  },
  {
   "cell_type": "code",
   "execution_count": 2,
   "metadata": {},
   "outputs": [],
   "source": [
    "importlib.reload(ml)\n",
    "# Let's load some PyTorch DataLoaders we'll be using using a wrapper function in the 'mnist_loader.py' module.\n",
    "train_dl, validation_dl = ml.load_MNISTlike(\n",
    "    target_set='MNIST', batch_size_train=64, batch_size_validation=128\n",
    ")"
   ]
  },
  {
   "cell_type": "code",
   "execution_count": 3,
   "metadata": {},
   "outputs": [
    {
     "name": "stdout",
     "output_type": "stream",
     "text": [
      "torch.Size([28, 28])\n",
      "tensor([0, 0, 0, 0, 0, 1, 0, 0, 0, 0])\n"
     ]
    },
    {
     "data": {
      "application/vnd.jupyter.widget-view+json": {
       "model_id": "8e954d650d274b1fb17dba36c2edcbbd",
       "version_major": 2,
       "version_minor": 0
      },
      "image/png": "[encoded data removed]",
      "text/html": [
       "\n",
       "            <div style=\"display: inline-block;\">\n",
       "                <div class=\"jupyter-widgets widget-label\" style=\"text-align: center;\">\n",
       "                    Figure\n",
       "                </div>\n",
       "                <img src='data:image/png;base64,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' width=640.0/>\n",
       "            </div>\n",
       "        "
      ],
      "text/plain": [
       "Canvas(toolbar=Toolbar(toolitems=[('Home', 'Reset original view', 'home', 'home'), ('Back', 'Back to previous …"
      ]
     },
     "metadata": {},
     "output_type": "display_data"
    }
   ],
   "source": [
    "# Let's inspect an image\n",
    "x, y = train_dl.dataset.__getitem__(0)\n",
    "\n",
    "print(x[0].shape)  # each image is a single-channel 28 x 28 image.\n",
    "print(y)  # one-hot encoding correponds to the number 5 label. \n",
    "plt.imshow(x.permute(1, 2, 0))\n",
    "plt.show()"
   ]
  },
  {
   "cell_type": "markdown",
   "metadata": {},
   "source": [
    "We need a loss function from Pytorch that satisfies the requirements above.  Luckily, `torch.nn.MLELoss` does just that. We'll also use the Adam optimizer.  As for the the model itself, the number of hidden layers will be four, including the final latent layer estimating $\\mathcal{Z}$. The starting input dimension is $28 \\times 28=784$ and we are going to select a latent space dimension of $3$."
   ]
  },
  {
   "cell_type": "code",
   "execution_count": 29,
   "metadata": {},
   "outputs": [
    {
     "data": {
      "text/plain": [
       "821148"
      ]
     },
     "execution_count": 29,
     "metadata": {},
     "output_type": "execute_result"
    }
   ],
   "source": [
    "from ptmodels import tracking\n",
    "importlib.reload(tracking)\n",
    "importlib.reload(vp)\n",
    "\n",
    "# Model hyperparameters\n",
    "n_epochs = 4\n",
    "lr = 7.5e-3\n",
    "n_latent = 3\n",
    "\n",
    "# Instantiate model\n",
    "img_size = (28, 28)\n",
    "n_layers = [img_size[0] * img_size[1], 392, 196, 98, 49]\n",
    "n_channels = 1\n",
    "ae_model = vp.DenseAE(n_layers, n_latent, img_size, n_channels=n_channels)\n",
    "ae_model = ae_model.to(device)  # apply model to device.\n",
    "\n",
    "# Select optimizer.\n",
    "opt = optim.Adam(ae_model.parameters(), lr=lr)\n",
    "\n",
    "# Select loss fuction.\n",
    "loss_fn = nn.MSELoss()\n",
    "\n",
    "# Print parameter count.\n",
    "sum([x.numel() for x in ae_model.parameters()])"
   ]
  },
  {
   "cell_type": "code",
   "execution_count": 30,
   "metadata": {},
   "outputs": [
    {
     "name": "stdout",
     "output_type": "stream",
     "text": [
      "Batch [   64/60000] loss: 1.290323.\n",
      "Batch [12864/60000] loss: 0.790114.\n",
      "Batch [25664/60000] loss: 0.751119.\n",
      "Batch [38464/60000] loss: 0.745696.\n",
      "Batch [51264/60000] loss: 0.715322.\n",
      "Epoch 1 validation loss: 0.699501.\n",
      "---------------------------------------\n",
      "Batch [   64/60000] loss: 0.701492.\n",
      "Batch [12864/60000] loss: 0.664995.\n",
      "Batch [25664/60000] loss: 0.635379.\n",
      "Batch [38464/60000] loss: 0.655469.\n",
      "Batch [51264/60000] loss: 0.648877.\n",
      "Epoch 2 validation loss: 0.637934.\n",
      "---------------------------------------\n",
      "Batch [   64/60000] loss: 0.675072.\n",
      "Batch [12864/60000] loss: 0.633431.\n",
      "Batch [25664/60000] loss: 0.617713.\n",
      "Batch [38464/60000] loss: 0.661269.\n",
      "Batch [51264/60000] loss: 0.638505.\n",
      "Epoch 3 validation loss: 0.629013.\n",
      "---------------------------------------\n",
      "Batch [   64/60000] loss: 0.620621.\n",
      "Batch [12864/60000] loss: 0.613307.\n",
      "Batch [25664/60000] loss: 0.605225.\n",
      "Batch [38464/60000] loss: 0.606110.\n",
      "Batch [51264/60000] loss: 0.600489.\n",
      "Epoch 4 validation loss: 0.614774.\n",
      "---------------------------------------\n"
     ]
    }
   ],
   "source": [
    "importlib.reload(vp)\n",
    "# Train model.\n",
    "tracker_AE = vp.train_AE(train_dl, validation_dl, ae_model, opt, loss_fn, n_epochs, device)"
   ]
  },
  {
   "cell_type": "code",
   "execution_count": 31,
   "metadata": {},
   "outputs": [
    {
     "name": "stdout",
     "output_type": "stream",
     "text": [
      "torch.Size([1, 28, 28])\n",
      "tensor([0, 0, 0, 1, 0, 0, 0, 0, 0, 0])\n"
     ]
    },
    {
     "data": {
      "application/vnd.jupyter.widget-view+json": {
       "model_id": "ac48d70a4f0046bcac87376d40c068aa",
       "version_major": 2,
       "version_minor": 0
      },
      "image/png": "[encoded data removed]",
      "text/html": [
       "\n",
       "            <div style=\"display: inline-block;\">\n",
       "                <div class=\"jupyter-widgets widget-label\" style=\"text-align: center;\">\n",
       "                    Figure\n",
       "                </div>\n",
       "                <img src='data:image/png;base64,iVBORw0KGgoAAAANSUhEUgAAAoAAAAHgCAYAAAA10dzkAAAAOXRFWHRTb2Z0d2FyZQBNYXRwbG90bGliIHZlcnNpb24zLjcuMiwgaHR0cHM6Ly9tYXRwbG90bGliLm9yZy8pXeV/AAAACXBIWXMAAA9hAAAPYQGoP6dpAAAeYElEQVR4nO3df4zWhZ3g8c8Dg0+xN8wuh8yPY+Dmeth2xXhbsSrxB5o65+wdq2ITrNke7LVGK5LlOGOK3ka22WN2bTRml2qjTSimUt1c/HWrV2VLgbqWPSRaDduzeOIxnkwmcnYGqDv8+t4fxNmdgnaf2ZnnO8zn9Uqe6DzP8/H5zNcv5M13nmEqRVEUAQBAGpPKXgAAgPoSgAAAyQhAAIBkBCAAQDICEAAgGQEIAJCMAAQASEYAAgAkIwABAJIRgAAAyQhAAIBkBCAAQDICEAAgGQEIAJCMAAQASEYAAgAkIwABAJIRgAAAyQhAAIBkBCAAQDICEAAgGQEIAJCMAAQASEYAAgAkIwABAJIRgAAAyQhAAIBkBCAAQDICEAAgGQEIAJCMAAQASEYAAgAkIwABAJIRgAAAyQhAAIBkBCAAQDICEAAgGQEIAJCMAAQASEYAAgAkIwABAJIRgAAAyQhAAIBkBCAAQDICEAAgGQEIAJCMAAQASEYAAgAkIwABAJIRgAAAyQhAAIBkBCAAQDICEAAgGQEIAJCMAAQASEYAAgAk01D2Apyejh8/Hu+++240NjZGpVIpex0AalQURRw4cCDa2tpi0iTXg7IRgIzIu+++G+3t7WWvAcA/UU9PT8yaNavsNagzAciINDY2RkTEJfE70RBTSt4GgFodjSPxYjw39Ps5uQjAxB544IH45je/Gfv27Ytzzjkn7r///rj00kv/UbMfftm3IaZEQ0UAApx2ihP/8DaenHzRP6nHH388Vq5cGXfddVe88sorcemll0ZXV1fs3bu37NUAgDEmAJO677774itf+Up89atfjc9+9rNx//33R3t7ezz44INlrwYAjDEBmNDhw4dj586d0dnZOez+zs7OeOmll045Mzg4GAMDA8NuAMDpSQAm9N5778WxY8eiubl52P3Nzc3R29t7ypnu7u5oamoauvkOYAA4fQnAxH71jb9FUXzkm4FXr14d/f39Q7eenp56rAgAjAHfBZzQjBkzYvLkySdd7evr6zvpquCHqtVqVKvVeqwHAIwxVwATOuOMM+L888+PTZs2Dbt/06ZNsWDBgpK2AgDqxRXApFatWhVf/vKXY/78+XHxxRfHQw89FHv37o1bbrml7NUAgDEmAJNasmRJ7N+/P77xjW/Evn37Yt68efHcc8/FnDlzyl4NABhjlaIoirKX4PQzMDAQTU1NsTCu8ZNAAE5DR4sjsSWejv7+/pg2bVrZ61Bn3gMIAJCMAAQASEYAAgAkIwABAJIRgAAAyQhAAIBkBCAAQDICEAAgGQEIAJCMAAQASEYAAgAkIwABAJIRgAAAyQhAAIBkBCAAQDICEAAgGQEIAJCMAAQASEYAAgAkIwABAJIRgAAAyQhAAIBkBCAAQDICEAAgGQEIAJCMAAQASEYAAgAkIwABAJIRgAAAyQhAAIBkBCAAQDICEAAgGQEIAJCMAAQASEYAAgAkIwABAJIRgAAAyQhAAIBkBCAAQDINZS8AjD/vL7u45pmD7ZWaZ/72aw/UPBMRcaQ4NqK5ephSmVzzTD0/n0t/uqTmmTMeml7zzNSn/mfNM0D9uAIIAJCMAAQASEYAAgAkIwABAJIRgAAAyQhAAIBkBCAAQDICEAAgGQEIAJCMAAQASEYAAgAkIwABAJJpKHsBYGy9s3pBzTN/ecs9Nc+0NVRrnjlSjOzPoMfj+Ijm6uFIUftMPT+fred9v+aZq5d/seaZyZun1TxzbGCg5hlgZFwBBABIRgACACQjAJNas2ZNVCqVYbeWlpay1wIA6sB7ABM755xz4q/+6q+GPp48eXKJ2wAA9SIAE2toaHDVDwAS8iXgxHbv3h1tbW3R0dERN9xwQ7z11lsf+dzBwcEYGBgYdgMATk8CMKkLL7wwHnnkkXj++efj4Ycfjt7e3liwYEHs37//lM/v7u6OpqamoVt7e3udNwYARosATKqrqyuuv/76OPfcc+MLX/hCPPvssxERsWHDhlM+f/Xq1dHf3z906+npqee6AMAo8h5AIiLik5/8ZJx77rmxe/fuUz5erVajWq39L/oFAMYfVwCJiBPv8fvZz34Wra2tZa8CAIwxAZjU7bffHlu3bo09e/bE3/zN38QXv/jFGBgYiKVLl5a9GgAwxnwJOKl33nknvvSlL8V7770XZ511Vlx00UWxffv2mDNnTtmrAQBjTAAm9dhjj5W9AnWy6j88UfNMW4P3e/L3Xvit2s+h3+34vdpf6Kf+eimoF18CBgBIRgACACQjAAEAkhGAAADJCEAAgGQEIABAMgIQACAZAQgAkIwABABIRgACACQjAAEAkhGAAADJNJS9AAATz/++4Tdqnun46ejvAZyaK4AAAMkIQACAZAQgAEAyAhAAIBkBCACQjAAEAEhGAAIAJCMAAQCSEYAAAMkIQACAZAQgAEAyAhAAIBkBCACQTEPZCwBj609f/bc1z/zeZd8Zg03IpOPzPWWvAHwMVwABAJIRgAAAyQhAAIBkBCAAQDICEAAgGQEIAJCMAAQASEYAAgAkIwABAJIRgAAAyQhAAIBkBCAAQDINZS8AjK3279T+y/x3Z143BpucbNKqxrq8zkj9nz+cXPPMTy/eMAabnH5+vrut5pmz450x2AQ4FVcAAQCSEYAAAMkIQACAZAQgAEAyAhAAIBkBCACQjAAEAEhGAAIAJCMAAQCSEYAAAMkIQACAZAQgAEAytf+UeOC00vDDnbUP/XD09ziVSvPMEc0dbzur5pk3vnZmzTPd5/63mmcmoqt2XV/zzGfv+F81zxyreQIYKVcAAQCSEYAAAMkIwAlo27ZtsWjRomhra4tKpRJPPfXUsMeLoog1a9ZEW1tbTJ06NRYuXBi7du0qZ1kAoO4E4AR06NChOO+882LdunWnfPyee+6J++67L9atWxc7duyIlpaWuOqqq+LAgQN13hQAKINvApmAurq6oqur65SPFUUR999/f9x1112xePHiiIjYsGFDNDc3x8aNG+Pmm2+u56oAQAlcAUxmz5490dvbG52dnUP3VavVuPzyy+Oll176yLnBwcEYGBgYdgMATk8CMJne3t6IiGhubh52f3Nz89Bjp9Ld3R1NTU1Dt/b29jHdEwAYOwIwqUqlMuzjoihOuu8fWr16dfT39w/denp6xnpFAGCMeA9gMi0tLRFx4kpga2vr0P19fX0nXRX8h6rValSr1THfDwAYe64AJtPR0REtLS2xadOmofsOHz4cW7dujQULFpS4GQBQL64ATkAHDx6MN998c+jjPXv2xKuvvhrTp0+P2bNnx8qVK2Pt2rUxd+7cmDt3bqxduzbOPPPMuPHGG0vcGgCoFwE4Ab388stxxRVXDH28atWqiIhYunRpfPe734077rgjPvjgg7j11lvj/fffjwsvvDBeeOGFaGxsLGtlAKCOKkVRFGUvwelnYGAgmpqaYmFcEw2VKWWvw2mq+SfTRjT38OwfjvImo2fSCN5ZczyOj8Emo+czz3+t5pmz/+PLY7AJo+locSS2xNPR398f06aN7Ncipy/vAQQASEYAAgAkIwABAJIRgAAAyQhAAIBkBCAAQDICEAAgGQEIAJCMAAQASEYAAgAkIwABAJIRgAAAyQhAAIBkGspeABh/pmxprXnmybl/WfvrVCbXPBMRcaQYv392HcnndKQYg0VGU2W8LwjUavz+LgoAwJgQgAAAyQhAAIBkBCAAQDICEAAgGQEIAJCMAAQASEYAAgAkIwABAJIRgAAAyQhAAIBkBCAAQDINZS8AjK2G9lk1z3x22v+teeZ4HK955khR88iIX6teRvI5jefPJyLiL69YV/PMV7/0n2qemfb97TXPACPjCiAAQDICEAAgGQEIAJCMAAQASEYAAgAkIwABAJIRgAAAyQhAAIBkBCAAQDICEAAgGQEIAJCMAAQASKah7AUAGN/OnnJGzTN/+l+/XfPMH/V9peaZiIiGH+4c0Rxk5gogAEAyAhAAIBkBCACQjAAEAEhGAAIAJCMAAQCSEYAAAMkIQACAZAQgAEAyAhAAIBkBCACQjAAEAEimoewFgLF1tOedmmd29bfV/kLNtY9MRF/Ze0XNMzc3bxnRa82vHhvRXD1cWD1S88wHZ00Z0Ws1jmgKcnMFEAAgGQEIAJCMAJyAtm3bFosWLYq2traoVCrx1FNPDXt82bJlUalUht0uuuiicpYFAOpOAE5Ahw4divPOOy/WrVv3kc+5+uqrY9++fUO35557ro4bAgBl8k0gE1BXV1d0dXV97HOq1Wq0tLTUaSMAYDxxBTCpLVu2xMyZM+Pss8+Om266Kfr6+j72+YODgzEwMDDsBgCcngRgQl1dXfHoo4/G5s2b4957740dO3bElVdeGYODgx85093dHU1NTUO39vb2Om4MAIwmXwJOaMmSJUP/Pm/evJg/f37MmTMnnn322Vi8ePEpZ1avXh2rVq0a+nhgYEAEAsBpSgASra2tMWfOnNi9e/dHPqdarUa1Wq3jVgDAWPElYGL//v3R09MTra2tZa8CANSBK4AT0MGDB+PNN98c+njPnj3x6quvxvTp02P69OmxZs2auP7666O1tTXefvvtuPPOO2PGjBlx3XXXlbg1AFAvAnACevnll+OKK/7+55F++N69pUuXxoMPPhivv/56PPLII/GLX/wiWltb44orrojHH388Ghv9RE0AyEAATkALFy6Moig+8vHnn3++jtucXiaf8+maZ95e/M9rnvkXWz6oeWbSj1+peWakJlU++vz5yJkRvKNkSmVyzTMREX9xcHrNM3c+86WaZz51+/aaZyJq/yuSbr/x1hG8TsS2b35rRHO1Gsn/pyO1n0JRVGqfAUbGewABAJIRgAAAyQhAAIBkBCAAQDICEAAgGQEIAJCMAAQASEYAAgAkIwABAJIRgAAAyQhAAIBkBCAAQDICEAAgmYayF4Dx5F999+2aZ55s+17NMy///uSaZ75x47KaZyIiYvtrNY8M/pfmmmf+/R9dU/NMpVLUPBMRcfwPz6p55lN/vX1Er1Wryed8uuaZf/f1LSN6reNxfERztToygv9NI9lthKcDMAKuAAIAJCMAAQCSEYAAAMkIQACAZAQgAEAyAhAAIBkBCACQjAAEAEhGAAIAJCMAAQCSEYAAAMkIQACAZBrKXgDGk+NRqcvrzK8eq3nm9zf89xG91rdXfrHmmU/0/rL2F7q9qfaZEZoUR2of+u1zah55a8m0mmduXfQ/ap752m/srnkG4J/CFUAAgGQEIABAMgIQACAZAQgAkIwABABIRgACACQjAAEAkhGAAADJCEAAgGQEIABAMgIQACAZAQgAkExD2QvAePL20tk1z3zrLz5d88zy33yj5pnr/llfzTMREdd954ERzdXDpBH+GfR4HB/lTUbPSD6n8fvZjNyfvf+Zmmd+47X/N6LXOjaiKcjNFUAAgGQEIABAMgIQACAZAQgAkIwABABIRgACACQjAAEAkhGAAADJCEAAgGQEIABAMgIQACAZAQgAkExD2QvAeHLsb39e88zm9z5d88yK39xd88xENKUyeURzR4pRXmQUjeRzGs+fT0TEN/f/Vs0zf/07/7rmmWPv1P7rDxgZVwABAJIRgAAAyQjACai7uzsuuOCCaGxsjJkzZ8a1114bb7zxxrDnFEURa9asiba2tpg6dWosXLgwdu3aVdLGAEA9CcAJaOvWrbF8+fLYvn17bNq0KY4ePRqdnZ1x6NChoefcc889cd9998W6detix44d0dLSEldddVUcOHCgxM0BgHrwTSAT0A9+8INhH69fvz5mzpwZO3fujMsuuyyKooj7778/7rrrrli8eHFERGzYsCGam5tj48aNcfPNN5exNgBQJ64AJtDf3x8REdOnT4+IiD179kRvb290dnYOPadarcbll18eL7300in/G4ODgzEwMDDsBgCcngTgBFcURaxatSouueSSmDdvXkRE9Pb2RkREc3PzsOc2NzcPPfaruru7o6mpaejW3t4+tosDAGNGAE5wt912W7z22mvx/e9//6THKpXKsI+Lojjpvg+tXr06+vv7h249PT1jsi8AMPa8B3ACW7FiRTzzzDOxbdu2mDVr1tD9LS0tEXHiSmBra+vQ/X19fSddFfxQtVqNarU6tgsDAHXhCuAEVBRF3HbbbfHEE0/E5s2bo6OjY9jjHR0d0dLSEps2bRq67/Dhw7F169ZYsGBBvdcFAOrMFcAJaPny5bFx48Z4+umno7Gxceh9fU1NTTF16tSoVCqxcuXKWLt2bcydOzfmzp0ba9eujTPPPDNuvPHGkrcHAMaaAJyAHnzwwYiIWLhw4bD7169fH8uWLYuIiDvuuCM++OCDuPXWW+P999+PCy+8MF544YVobGys87YAQL1ViqIY5z+GnPFoYGAgmpqaYmFcEw2VKWWvU6rBrgtqnnn+Ow+MwSann0kjfBfK8Tg+ypuMnpF8TuP584mI+Ny6P6h5Zlb3qf9KKcaPo8WR2BJPR39/f0ybNq3sdagz7wEEAEhGAAIAJCMAAQCSEYAAAMkIQACAZAQgAEAyAhAAIBkBCACQjAAEAEhGAAIAJCMAAQCSEYAAAMkIQACAZBrKXgBOd2f+5Oc1z1zxn1fUPNN7SVHzTETEn1+9oeaZL0w9MKLXor7Wvvdvap7Z1H1pzTOzHnup5hlgfHMFEAAgGQEIAJCMAAQASEYAAgAkIwABAJIRgAAAyQhAAIBkBCAAQDICEAAgGQEIAJCMAAQASEYAAgAkUymKYmQ/YZ7UBgYGoqmpKRbGNdFQmVL2OnyMyb91ds0zby+eMQabnOynX/vzEc0dj+OjvMno+e0H/6Bur/Uvn3iv5pljf/vzMdiE09HR4khsiaejv78/pk2bVvY61JkrgAAAyQhAAIBkBCAAQDICEAAgGQEIAJCMAAQASEYAAgAkIwABAJIRgAAAyQhAAIBkBCAAQDICEAAgmUpRFEXZS3D6GRgYiKamplgY10RDZUrZ6wBQo6PFkdgST0d/f39Mmzat7HWoM1cAAQCSEYAAAMkIQACAZAQgAEAyAhAAIBkBCACQjAAEAEhGAAIAJCMAAQCSEYAAAMkIQACAZAQgAEAyAhAAIBkBCACQjAAEAEhGAE5A3d3dccEFF0RjY2PMnDkzrr322njjjTeGPWfZsmVRqVSG3S666KKSNgYA6kkATkBbt26N5cuXx/bt22PTpk1x9OjR6OzsjEOHDg173tVXXx379u0buj333HMlbQwA1FND2Qsw+n7wgx8M+3j9+vUxc+bM2LlzZ1x22WVD91er1Whpaan3egBAyVwBTKC/vz8iIqZPnz7s/i1btsTMmTPj7LPPjptuuin6+vo+8r8xODgYAwMDw24AwOlJAE5wRVHEqlWr4pJLLol58+YN3d/V1RWPPvpobN68Oe69997YsWNHXHnllTE4OHjK/053d3c0NTUN3drb2+v1KQAAo6xSFEVR9hKMneXLl8ezzz4bL774YsyaNesjn7dv376YM2dOPPbYY7F48eKTHh8cHBwWhwMDA9He3h4L45poqEwZk90BGDtHiyOxJZ6O/v7+mDZtWtnrUGfeAziBrVixIp555pnYtm3bx8ZfRERra2vMmTMndu/efcrHq9VqVKvVsVgTAKgzATgBFUURK1asiCeffDK2bNkSHR0dv3Zm//790dPTE62trXXYEAAok/cATkDLly+P733ve7Fx48ZobGyM3t7e6O3tjQ8++CAiIg4ePBi33357/OQnP4m33347tmzZEosWLYoZM2bEddddV/L2AMBYcwVwAnrwwQcjImLhwoXD7l+/fn0sW7YsJk+eHK+//no88sgj8Ytf/CJaW1vjiiuuiMcffzwaGxtL2BgAqCcBOAH9uu/rmTp1ajz//PN12gYAGG98CRgAIBkBCACQjAAEAEhGAAIAJCMAAQCSEYAAAMkIQACAZAQgAEAyAhAAIBkBCACQjAAEAEhGAAIAJCMAAQCSEYAAAMkIQACAZAQgAEAyAhAAIBkBCACQjAAEAEhGAAIAJCMAAQCSEYAAAMkIQACAZAQgAEAyAhAAIJmGshfg9FQURUREHI0jEUXJywBQs6NxJCL+/vdzchGAjMiBAwciIuLFeK7kTQD4pzhw4EA0NTWVvQZ1VimkPyNw/PjxePfdd6OxsTEqlcqwxwYGBqK9vT16enpi2rRpJW1YPsfhBMfhBMfhBMfhhPFwHIqiiAMHDkRbW1tMmuQdYdm4AsiITJo0KWbNmvWxz5k2bVrq3+A/5Dic4Dic4Dic4DicUPZxcOUvL8kPAJCMAAQASEYAMuqq1WrcfffdUa1Wy16lVI7DCY7DCY7DCY7DCY4DZfNNIAAAybgCCACQjAAEAEhGAAIAJCMAAQCSEYCMqgceeCA6OjriE5/4RJx//vnx4x//uOyV6mrNmjVRqVSG3VpaWspea8xt27YtFi1aFG1tbVGpVOKpp54a9nhRFLFmzZpoa2uLqVOnxsKFC2PXrl3lLDuGft1xWLZs2Unnx0UXXVTOsmOou7s7LrjggmhsbIyZM2fGtddeG2+88caw52Q4J/4xxyHLOcH4IwAZNY8//nisXLky7rrrrnjllVfi0ksvja6urti7d2/Zq9XVOeecE/v27Ru6vf7662WvNOYOHToU5513Xqxbt+6Uj99zzz1x3333xbp162LHjh3R0tISV1111dDPlJ4oft1xiIi4+uqrh50fzz038X6e9tatW2P58uWxffv22LRpUxw9ejQ6Ozvj0KFDQ8/JcE78Y45DRI5zgnGogFHy+c9/vrjllluG3feZz3ym+PrXv17SRvV39913F+edd17Za5QqIoonn3xy6OPjx48XLS0txZ/8yZ8M3fd3f/d3RVNTU/Htb3+7hA3r41ePQ1EUxdKlS4trrrmmlH3K1NfXV0REsXXr1qIo8p4Tv3ociiLvOUH5XAFkVBw+fDh27twZnZ2dw+7v7OyMl156qaStyrF79+5oa2uLjo6OuOGGG+Ktt94qe6VS7dmzJ3p7e4edG9VqNS6//PJ050ZExJYtW2LmzJlx9tlnx0033RR9fX1lrzTm+vv7IyJi+vTpEZH3nPjV4/ChjOcE5ROAjIr33nsvjh07Fs3NzcPub25ujt7e3pK2qr8LL7wwHnnkkXj++efj4Ycfjt7e3liwYEHs37+/7NVK8+H//+znRkREV1dXPProo7F58+a49957Y8eOHXHllVfG4OBg2auNmaIoYtWqVXHJJZfEvHnzIiLnOXGq4xCR85xgfGgoewEmlkqlMuzjoihOum8i6+rqGvr3c889Ny6++OL41Kc+FRs2bIhVq1aVuFn5sp8bERFLliwZ+vd58+bF/PnzY86cOfHss8/G4sWLS9xs7Nx2223x2muvxYsvvnjSY5nOiY86DhnPCcYHVwAZFTNmzIjJkyef9Kf3vr6+k/6Un8knP/nJOPfcc2P37t1lr1KaD78L2rlxstbW1pgzZ86EPT9WrFgRzzzzTPzoRz+KWbNmDd2f7Zz4qONwKhP9nGD8EICMijPOOCPOP//82LRp07D7N23aFAsWLChpq/INDg7Gz372s2htbS17ldJ0dHRES0vLsHPj8OHDsXXr1tTnRkTE/v37o6enZ8KdH0VRxG233RZPPPFEbN68OTo6OoY9nuWc+HXH4VQm6jnB+ONLwIyaVatWxZe//OWYP39+XHzxxfHQQw/F3r1745Zbbil7tbq5/fbbY9GiRTF79uzo6+uLP/7jP46BgYFYunRp2auNqYMHD8abb7459PGePXvi1VdfjenTp8fs2bNj5cqVsXbt2pg7d27MnTs31q5dG2eeeWbceOONJW49+j7uOEyfPj3WrFkT119/fbS2tsbbb78dd955Z8yYMSOuu+66ErcefcuXL4+NGzfG008/HY2NjUNX+pqammLq1KlRqVRSnBO/7jgcPHgwzTnBOFTidyAzAX3rW98q5syZU5xxxhnF5z73uWF/3UEGS5YsKVpbW4spU6YUbW1txeLFi4tdu3aVvdaY+9GPflRExEm3pUuXFkVx4q/9uPvuu4uWlpaiWq0Wl112WfH666+Xu/QY+Ljj8Mtf/rLo7OwszjrrrGLKlCnF7Nmzi6VLlxZ79+4te+1Rd6pjEBHF+vXrh56T4Zz4dcch0znB+FMpiqKoZ3ACAFAu7wEEAEhGAAIAJCMAAQCSEYAAAMkIQACAZAQgAEAyAhAAIBkBCACQjAAEAEhGAAIAJCMAAQCSEYAAAMkIQACAZAQgAEAyAhAAIBkBCACQjAAEAEhGAAIAJCMAAQCSEYAAAMkIQACAZAQgAEAyAhAAIBkBCACQjAAEAEhGAAIAJCMAAQCSEYAAAMkIQACAZAQgAEAyAhAAIJn/Dy+oISoRNTHJAAAAAElFTkSuQmCC' width=640.0/>\n",
       "            </div>\n",
       "        "
      ],
      "text/plain": [
       "Canvas(toolbar=Toolbar(toolitems=[('Home', 'Reset original view', 'home', 'home'), ('Back', 'Back to previous …"
      ]
     },
     "metadata": {},
     "output_type": "display_data"
    },
    {
     "data": {
      "application/vnd.jupyter.widget-view+json": {
       "model_id": "99ee786f58214401b29e753306cb9dcc",
       "version_major": 2,
       "version_minor": 0
      },
      "image/png": "[encoded data removed]",
      "text/html": [
       "\n",
       "            <div style=\"display: inline-block;\">\n",
       "                <div class=\"jupyter-widgets widget-label\" style=\"text-align: center;\">\n",
       "                    Figure\n",
       "                </div>\n",
       "                <img src='data:image/png;base64,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' width=640.0/>\n",
       "            </div>\n",
       "        "
      ],
      "text/plain": [
       "Canvas(toolbar=Toolbar(toolitems=[('Home', 'Reset original view', 'home', 'home'), ('Back', 'Back to previous …"
      ]
     },
     "metadata": {},
     "output_type": "display_data"
    }
   ],
   "source": [
    "# Alright --- let's see how the model performs.  \n",
    "# Note that we have to unflatten the prediction, which we do using some torch.nn functionality.\n",
    "x_test, y_test = validation_dl.dataset.__getitem__(200)\n",
    "print(x_test.shape)\n",
    "x_test = x_test.to(device)\n",
    "\n",
    "# We select the second dimension of the 2D output to unflatten into a 28x28 image.\n",
    "print(y_test)  # get encoding output. \n",
    "plt.figure()\n",
    "plt.imshow(x_test.to('cpu').permute(1, 2, 0))\n",
    "plt.show()\n",
    "\n",
    "# Get prediction.\n",
    "x_pred = ae_model(x_test.unsqueeze(0))\n",
    "\n",
    "# Note we call the first and in this case, the only, batch member 0 from x_pred.\n",
    "# This model outputs a batch prediction, hence why we 'unsqueezed our input above.\n",
    "plt.figure()\n",
    "plt.imshow(x_pred[0].detach().to('cpu').permute(1, 2, 0))\n",
    "plt.show()\n"
   ]
  },
  {
   "cell_type": "markdown",
   "metadata": {},
   "source": [
    "This is a pretty neat result.  Let's consider a couple things real quick.  First, this is only a four-layer encoder that maps to the latent space $\\mathcal{Z}$.  We could increase the network depth.  Second, this encoding exists in three dimensions: $\\mathbf{z}\\in \\mathcal{R}^3$.  This means we were able to start with $784$-dimension vectors and then find a three-dimensional representation that contains enought information about the training data to recover, via the decoder, the initial image with reasonable accuracy.  \n",
    "\n",
    "Let's actually make use of this latent representation and run some clustering algorithms on the validation data set's encoded representations.  Before doing so, we'll collect the encoding predictions first, and the plot the bivariate encoding to see what we are working with."
   ]
  },
  {
   "cell_type": "code",
   "execution_count": null,
   "metadata": {},
   "outputs": [],
   "source": [
    "# Let's loop the validation data set through and get images and labels.\n",
    "encoding_batches, labels_batches = zip(\n",
    "    *[(ae_model.get_encoding(xb.to(device)), yb.to(device)) for xb, yb in validation_dl]\n",
    ")\n",
    "\n",
    "# Take the tuples of batches and concatenate.  Also, detach the tensors --- no need to track gradients.\n",
    "encodings = concat(encoding_batches).detach().cpu().numpy()\n",
    "# normed_encodings = vp.SymmetricLinearAE.normalize_encoding(encodings)\n",
    "labels = concat(labels_batches).detach().cpu().numpy()\n"
   ]
  },
  {
   "cell_type": "code",
   "execution_count": null,
   "metadata": {},
   "outputs": [],
   "source": [
    "importlib.reload(ae_plots)\n",
    "# What does this 3D encoding look like?\n",
    "encoding_fig = ae_plots.plot_3Dencoding(\n",
    "    encodings, figsize=(8, 8), marker='.', color='black', alpha=0.2\n",
    ")\n",
    "plt.show()"
   ]
  },
  {
   "cell_type": "markdown",
   "metadata": {},
   "source": [
    "The data exhibits some clearly nonlinear behavior.  Regardless, let's play around with some classification algorithms and see how things look."
   ]
  },
  {
   "cell_type": "code",
   "execution_count": null,
   "metadata": {},
   "outputs": [],
   "source": [
    "# scikit-learn models must first be instantiated, then fit using the 'fit()' method.  \n",
    "# Keep in mind that the fitting sample must be fed in as a column vector of features. \n",
    "# Because we are fitting clustering algorithms, no labels (aka no independent variable values)\n",
    "# Need to be provided (specifically, the keyword argument 'y=None' for 'fit()').\n",
    "\n",
    "# Instantiate and fit a K-Means model with 10 clusters.\n",
    "km_model = KMeans(init='k-means++', n_clusters=10, n_init=8)\n",
    "km_model.fit(encodings)\n",
    "\n",
    "# Instantiate and fit a Spectral Clustering model with 10 clusters. This\n",
    "# algorithm is slower than k-means but does not assume densities are convex\n",
    "# or isotropic.\n",
    "# sc_model = SpectralClustering(n_clusters=10, n_init=8)\n",
    "# sc_model.fit(encodings)\n",
    "\n",
    "# Instantiate and fit a HDBSCAN model.  This algorithm is more unsupervised,\n",
    "# finding the label count from the data.\n",
    "# hds_model = HDBSCAN(min_cluster_size=200, min_samples=50)\n",
    "# hds_model.fit(encodings)\n",
    "\n",
    "# # Instantiate and fit a DBSCAN model.  This algorithm is more unsupervised,\n",
    "# # finding the label count from the data.\n",
    "# bw = estimate_bandwidth(encodings, n_samples=500)\n",
    "# ms_model = MeanShift(bandwidth=bw)\n",
    "# ms_model.fit(encodings)"
   ]
  },
  {
   "cell_type": "code",
   "execution_count": null,
   "metadata": {},
   "outputs": [],
   "source": [
    "importlib.reload(ae_plots)\n",
    "\n",
    "# Let's plot the different clustering algorithm results.\n",
    "km_fig = ae_plots.plot_3Dencodings_withclusters(\n",
    "    encodings, km_model.labels_,\n",
    "    'K-Means', 10,\n",
    "    encoding_kwargs={'color': 'black', 'marker': '.', 'alpha': 0.1},\n",
    "    clusters_kwargs={'marker': 'o', 'alpha': 0.15}\n",
    ")\n",
    "plt.show()\n"
   ]
  },
  {
   "cell_type": "markdown",
   "metadata": {},
   "source": [
    "## Project 2.2: ConvNet Autoencoder.\n",
    "\n",
    "Already we are running into issues discovering clusters in the encoded representation.  The encoded representation is not well-behaved for these clusteringa algorithms, featuring complex density curvature, including visibly varying length scales if we instead had an encoding dimension of two.  All this alone hints that an encoding dimension of two or three may be too low to be immediately useful, even if the decoder can still recover a decent prediction from the latent space representation.  It could very well be that only having two latent features is simply insufficient to describe variation in our training set.  \n",
    "\n",
    "Recall that we are trying to find a latent representation of image data --- maybe it makes sense to instead build an autoencoder with ConvNet layers. Unfortunately, this is easier said then done.  Convolution (technically cross-correlation for ConvNet applications) does have an inverse operation call a transpose convolution.  We could mirror a ConvNet encoder with a transpose ConvNet decoder.  Unfortunately, this ignores using max pooling, a powerful ConvNet layer, especially for deep networks.  By construction, max pooling has no inverse operation since it is a many-to-one operation.  \n",
    "\n",
    "For the first ConvNet autoencoder, will use blocks of two convolutions and a single max pooling layer.  After all of these blocks, a single dense linear layer will yield the latent representation. The decoder starts with a single dense layer mapping the encoding space to a square image compatible feature (specifically, this hidden layer must output hidden features of dimension $n_h$ equal to $n_x \\times n_y \\times n_c$, where $n_x$, $n_y$, and $n_c$ are the image height, width, and channel count, respectively).  Blocks with a single upscaling layer, followed by two convolutions, will eventually output the reconstructed image."
   ]
  },
  {
   "cell_type": "code",
   "execution_count": null,
   "metadata": {},
   "outputs": [],
   "source": [
    "importlib.reload(vp)\n",
    "\n",
    "# Model hyperparameters\n",
    "n_epochs = 4\n",
    "channels = [1, 4, 8]\n",
    "k_layers = [5, 3]\n",
    "n_latent = 3\n",
    "\n",
    "# Instantiate model.\n",
    "n_flat = 7 * 7 * 8  # final hidden convnet 'image' size times number of channels.\n",
    "conv_ae_model = vp.ConvNetAE(channels, k_layers, n_flat, n_latent).to(device)\n",
    "\n",
    "# Select optimizer.\n",
    "lr = 7.5e-3\n",
    "opt = optim.Adam(conv_ae_model.parameters(), lr=lr)\n",
    "\n",
    "# Select loss fuction.\n",
    "loss_fn = nn.MSELoss()\n",
    "\n",
    "# Get parameter count.\n",
    "sum([x.numel() for x in conv_ae_model.parameters()])"
   ]
  },
  {
   "cell_type": "code",
   "execution_count": null,
   "metadata": {},
   "outputs": [],
   "source": [
    "importlib.reload(vp)\n",
    "# Train model.\n",
    "tracker_ConvNetAE = vp.train_AE(train_dl, validation_dl, conv_ae_model, opt, loss_fn, n_epochs, device)"
   ]
  },
  {
   "cell_type": "code",
   "execution_count": null,
   "metadata": {},
   "outputs": [],
   "source": [
    "# Alright --- let's see how the ConvNet model performs.  \n",
    "x_test, y_test = validation_dl.dataset.__getitem__(200)\n",
    "x_test = x_test.to(device)\n",
    "\n",
    "# We select the second dimension of the 2D output to unflatten into a 28x28 image.\n",
    "print(y_test)  # get encoding output. \n",
    "plt.figure()\n",
    "plt.imshow(x_test.to('cpu').permute(1, 2, 0))\n",
    "plt.show()\n",
    "\n",
    "# Get prediction.\n",
    "x_pred = conv_ae_model(x_test.unsqueeze(0))\n",
    "\n",
    "# Note we call the first and in this case, the only, batch member 0 from x_pred.\n",
    "# This model outputs a batch prediction, hence why we 'unsqueezed our input above.\n",
    "plt.figure()\n",
    "plt.imshow(x_pred[0].detach().to('cpu').permute(1, 2, 0))\n",
    "plt.show()\n"
   ]
  },
  {
   "cell_type": "markdown",
   "metadata": {},
   "source": [
    "The ConvNet architecture is not performing any better or worse than the dense network, but this is actually pretty is impressive: the ConvNet autoencoder has two orders of magnitude *fewer* free parameters to train than the original dense autoencoder we used.  \n",
    "\n",
    "MNIST benchmarking, even for large model training, is not particularly demanding --- MNIST images are relatively small and have only one channel. As a result, we aren't immediately seeing the efficiency gained going from a dense linear architecture to a ConvNet architecture.  But I can guarantee that if we were instead trying to encode/decode higher resolution images, the performance and memory load would definitely be noticeably different!"
   ]
  },
  {
   "cell_type": "code",
   "execution_count": null,
   "metadata": {},
   "outputs": [],
   "source": [
    "# Let's loop the validation data set through and get encodings and labels.\n",
    "c_encoding_batches, c_labels_batches = zip(\n",
    "    *[(conv_ae_model.get_encoding(xb.to(device)), yb.to(device)) for xb, yb in validation_dl]\n",
    ")\n",
    "\n",
    "# Take the tuples of batches and concatenate.  Also, detach the tensors --- no need to track gradients.\n",
    "c_encodings = concat(c_encoding_batches).detach().cpu().numpy()\n",
    "c_labels = concat(c_labels_batches).detach().cpu().numpy()\n"
   ]
  },
  {
   "cell_type": "code",
   "execution_count": null,
   "metadata": {},
   "outputs": [],
   "source": [
    "# Instantiate and fit a K-Means model with 10 clusters.\n",
    "c_km_model = KMeans(init='k-means++', n_clusters=10, n_init=8)\n",
    "c_km_model.fit(c_encodings)\n",
    "\n",
    "# Instantiate and fit a Spectral Clustering model with 10 clusters. This\n",
    "# algorithm is slower than k-means but does not assume densities are convex\n",
    "# or isotropic.\n",
    "# c_sc_model = SpectralClustering(n_clusters=10, n_init=8)\n",
    "# c_sc_model.fit(c_encodings)\n",
    "\n",
    "# Instantiate and fit a HDBSCAN model.  This algorithm is more unsupervised,\n",
    "# finding the label count from the data.\n",
    "# c_hds_model = HDBSCAN(min_cluster_size=200, min_samples=50)\n",
    "# c_hds_model.fit(encodings)"
   ]
  },
  {
   "cell_type": "code",
   "execution_count": null,
   "metadata": {},
   "outputs": [],
   "source": [
    "importlib.reload(ae_plots)\n",
    "\n",
    "# Let's plot the different clustering algorithm results for the ConvNet AE.\n",
    "c_km_fig = ae_plots.plot_3Dencodings_withclusters(\n",
    "    c_encodings, c_km_model.labels_,\n",
    "    'K-Means', 10,\n",
    "    encoding_kwargs={'color': 'black', 'marker': '.', 'alpha': 0.1},\n",
    "    clusters_kwargs={'marker': 'o', 'alpha': 0.15}\n",
    ")\n",
    "plt.show()"
   ]
  },
  {
   "cell_type": "markdown",
   "metadata": {},
   "source": [
    "It is not readily apparent which autoencoder is performing better or worse, although the ConvNet architecture seems to have slightly more distnquishable cluters.  Moreover, the point densities exhibit lesss curvature.  Regardless, we need to compare the data labels against the clustering predicted labels to see how the unsupervised classification is performing.\n",
    "\n",
    "Let's do this with a matching matrix.  Specifically, we will take the ordered labels from the data (1, 2, 3, etc.) and get a vector of predicted 'unordered' labels output from the clustering algorithm of choice.  Luckily, scikit-learn already has an implementation.  We'll focus on the k-means clustering results for now."
   ]
  },
  {
   "cell_type": "code",
   "execution_count": null,
   "metadata": {},
   "outputs": [],
   "source": [
    "importlib.reload(ae_plots)\n",
    "\n",
    "# First, convert from one-hot encoding.\n",
    "labels_inv_one_hot = argmax(labels, axis=1)\n",
    "\n",
    "km_cmatrix, km_cmatrix_fig = ae_plots.matching_matrix_heatmap(\n",
    "    'Dense AE K-means',\n",
    "    labels_inv_one_hot,\n",
    "    km_model.labels_\n",
    ")\n",
    "plt.show()"
   ]
  },
  {
   "cell_type": "code",
   "execution_count": null,
   "metadata": {},
   "outputs": [],
   "source": [
    "# First, convert from one-hot encoding.\n",
    "c_labels_inv_one_hot = argmax(c_labels, axis=1)\n",
    "\n",
    "c_km_cmatrix, c_km_cmatrix_fig = ae_plots.matching_matrix_heatmap(\n",
    "    'ConvNet AE K-means',\n",
    "    c_labels_inv_one_hot,\n",
    "    c_km_model.labels_\n",
    ")\n",
    "plt.show()"
   ]
  },
  {
   "cell_type": "markdown",
   "metadata": {},
   "source": [
    "These are interesting results.  At present, neither model performs well enough to be considered a successful implementation, but both seem to be discovering emergent features from the data set.  Again, keep in mind the ConvNet architeture is doing this with 100 times *less* parameters!\n",
    "\n",
    "Sticking with the ConvNet autoencoder, let's next triple the latent space dimension to nine, which is still far smaller than the starting input dimension of $784$.  We can't readily visualize a six-dimensional scatterplot, but the matching matrix is still readily usable and frankly, more useful."
   ]
  },
  {
   "cell_type": "code",
   "execution_count": null,
   "metadata": {},
   "outputs": [],
   "source": [
    "importlib.reload(vp)\n",
    "\n",
    "# Model hyperparameters\n",
    "n_epochs = 4\n",
    "channels = [1, 4, 8]\n",
    "k_layers = [5, 3]\n",
    "n_latent = 10\n",
    "\n",
    "# Instantiate model.\n",
    "n_flat = 7 * 7 * 8  # final hidden convnet 'image' size times number of channels.\n",
    "conv2_ae_model = vp.ConvNetAE(channels, k_layers, n_flat, n_latent).to(device)\n",
    "\n",
    "# Select optimizer.\n",
    "lr = 7.5e-3\n",
    "opt = optim.Adam(conv2_ae_model.parameters(), lr=lr)\n",
    "\n",
    "# Select loss fuction.\n",
    "loss_fn = nn.MSELoss()\n",
    "\n",
    "# Get parameter count.\n",
    "sum([x.numel() for x in conv2_ae_model.parameters()])"
   ]
  },
  {
   "cell_type": "code",
   "execution_count": null,
   "metadata": {},
   "outputs": [],
   "source": [
    "tracker_ConvNetAE2 = vp.train_AE(train_dl, validation_dl, conv2_ae_model, opt, loss_fn, n_epochs, device)\n",
    "\n",
    "c2_encoding_batches, c2_labels_batches = zip(\n",
    "    *[(conv2_ae_model.get_encoding(xb.to(device)), yb.to(device)) for xb, yb in validation_dl]\n",
    ")\n",
    "c2_encodings = concat(c2_encoding_batches).detach().cpu().numpy()\n",
    "c2_labels = concat(c2_labels_batches).detach().cpu().numpy()\n"
   ]
  },
  {
   "cell_type": "code",
   "execution_count": null,
   "metadata": {},
   "outputs": [],
   "source": [
    "# Alright --- let's see how the ConvNet model performs.  \n",
    "x_test, y_test = validation_dl.dataset.__getitem__(200)\n",
    "x_test = x_test.to(device)\n",
    "\n",
    "# We select the second dimension of the 2D output to unflatten into a 28x28 image.\n",
    "print(y_test)  # get encoding output. \n",
    "plt.figure()\n",
    "plt.imshow(x_test.to('cpu').permute(1, 2, 0))\n",
    "plt.show()\n",
    "\n",
    "# Get prediction.\n",
    "x_pred = conv2_ae_model(x_test.unsqueeze(0))\n",
    "\n",
    "# Note we call the first and in this case, the only, batch member 0 from x_pred.\n",
    "# This model outputs a batch prediction, hence why we 'unsqueezed our input above.\n",
    "plt.figure()\n",
    "plt.imshow(x_pred[0].detach().to('cpu').permute(1, 2, 0))\n",
    "plt.show()"
   ]
  },
  {
   "cell_type": "code",
   "execution_count": null,
   "metadata": {},
   "outputs": [],
   "source": [
    "c2_km_model = KMeans(init='k-means++', n_clusters=10, n_init=8)\n",
    "c2_km_model.fit(c2_encodings)\n",
    "\n",
    "c2_labels_inv_one_hot = argmax(c2_labels, axis=1)\n",
    "\n",
    "c2_km_cmatrix, c2_km_cmatrix_fig = ae_plots.matching_matrix_heatmap(\n",
    "    'ConvNet AE K-means',\n",
    "    c2_labels_inv_one_hot,\n",
    "    c2_km_model.labels_\n",
    ")\n",
    "plt.show()"
   ]
  }
 ],
 "metadata": {
  "kernelspec": {
   "display_name": "dlpractice",
   "language": "python",
   "name": "python3"
  },
  "language_info": {
   "codemirror_mode": {
    "name": "ipython",
    "version": 3
   },
   "file_extension": ".py",
   "mimetype": "text/x-python",
   "name": "python",
   "nbconvert_exporter": "python",
   "pygments_lexer": "ipython3",
   "version": "3.10.12"
  },
  "orig_nbformat": 4
 },
 "nbformat": 4,
 "nbformat_minor": 2
}

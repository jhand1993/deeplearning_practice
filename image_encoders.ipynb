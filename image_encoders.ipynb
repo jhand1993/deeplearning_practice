{
 "cells": [
  {
   "cell_type": "code",
   "execution_count": 2,
   "metadata": {},
   "outputs": [
    {
     "name": "stdout",
     "output_type": "stream",
     "text": [
      "Using mps.\n"
     ]
    }
   ],
   "source": [
    "import importlib\n",
    "from pathlib import Path\n",
    "\n",
    "# from torch.utils.data import DataLoader, random_split\n",
    "from torch import cuda, nn, optim, concat\n",
    "from torch.backends import mps\n",
    "\n",
    "import matplotlib.pyplot as plt\n",
    "import numpy as np\n",
    "\n",
    "from sklearn.cluster import KMeans, SpectralClustering, HDBSCAN, MeanShift, estimate_bandwidth\n",
    "\n",
    "import datasets.mnist_loader as ml\n",
    "from ptmodels import vae_pytorch as vp\n",
    "from plotting import ae_plots\n",
    "\n",
    "# Use a gpu or M1 chipset to train PyTorch networks if you have it.\n",
    "if cuda.is_available():\n",
    "    device = 'cuda'\n",
    "\n",
    "elif mps.is_available():\n",
    "    device = 'mps'\n",
    "\n",
    "else: \n",
    "    device = 'cpu'\n",
    "\n",
    "print(f'Using {device}.')"
   ]
  },
  {
   "cell_type": "markdown",
   "metadata": {},
   "source": [
    "# Project 2: Autoencoders and Variational Autoencoders.\n",
    "In this project, we are going to first implement a couple autoencoders trained on MNIST-compatible data sets for dimensionality reduction. Afterwards, we'll then create a generative model using a variational autoencoder. \n",
    "\n",
    "## Project 2.1: Autoencoders for Dimensionality Reduction.\n",
    "High dimensionality data frequently has more dimensions than is needed to perform regression, classification, or clustering.  More formally, there is a lot of covariance within most data, covariance that reduces the intrinsic dimensionality of the data set.  Think of image data --- a $128 \\times 128$ pixel image can be thought of as a vector $\\mathbf{x}$ which resides in a $416384$-dimensional vector space. That does not mean there are $16384$ unique features.  Intuitively, we know there are less features in the data, and those features are captured by correlations between pixels.  In other words, we could find a mapping from the starting representation $\\mathbf{x}$ to a reduced-dimension latent representation $\\mathbf{z}\\in \\mathcal{R}^m$, where hopefully $m \\ll 16384$.  We can then use more approachable latent representation $\\mathbf{z}\\in \\mathcal{Z}$ to analyze the starting dataset $\\mathbf{x}\\in \\mathcal{X}$.\n",
    "\n",
    "An autoencoder does this by finding three things: a latent representation $\\mathbf{z}\\in \\mathcal{Z}$, an encoding function $E_{\\phi}(\\mathbf{x})=\\mathbf{z}$ parameterized by $\\phi$, and a decoding function $D_{\\theta}(\\mathbf{z})=\\mathbf{x}$ parameterized by $\\theta$. Here, we will simultaneously train two dense, multi-layer perceptrons to estimate functions $E_{\\phi}$ and $D_{\\theta}$, recovering the latent space $\\mathcal{Z}$ in the process. \n",
    "\n",
    "Training the perceptron networks requires a loss function.  Although the data we are training on is labeled, we will not be using them.  Instead, we are going to perform unsupervised learning.  Specifically, we'll are going to optimize by minimizing the 'distance' between the starting vector $\\mathbf{x}$ and its predicted decoding $D_{\\phi}(E_{\\theta}(\\mathbf{x}))$: \n",
    "\n",
    "$L(\\mathcal{X}|\\phi, \\theta)=-\\frac{1}{N}\\sum^N_{i=1}L_2(\\mathbf{x}_i, D_{\\phi}(E_{\\theta}(\\mathbf{x}_i)))$\n",
    "\n",
    "where $N$ is the size of the training data sample $\\mathcal{X}$ and $L_2(\\mathbf{x}, \\mathbf{x}^{\\prime})=|| \\mathbf{x} - \\mathbf{x}^{\\prime} ||^2$ is the L2 loss (basically, the Euclidian distance up to some multiplicative constant). To train, we will minimize $L(\\mathcal{X}|\\phi, \\theta)$ with respect to the parameters $\\phi$ and $\\theta$.\n",
    "\n",
    "Enough math.  Let's start setting up the model to train!"
   ]
  },
  {
   "cell_type": "code",
   "execution_count": 3,
   "metadata": {},
   "outputs": [],
   "source": [
    "importlib.reload(ml)\n",
    "# Let's load some PyTorch DataLoaders we'll be using using a wrapper function in the 'mnist_loader.py' module.\n",
    "train_dl, validation_dl = ml.load_MNISTlike(\n",
    "    target_set='MNIST', batch_size_train=64, batch_size_validation=128\n",
    ")"
   ]
  },
  {
   "cell_type": "code",
   "execution_count": 4,
   "metadata": {},
   "outputs": [
    {
     "name": "stdout",
     "output_type": "stream",
     "text": [
      "torch.Size([28, 28])\n",
      "tensor([0, 0, 0, 0, 0, 1, 0, 0, 0, 0])\n"
     ]
    },
    {
     "data": {
      "image/png": "[encoded data removed]",
      "text/plain": [
       "<Figure size 640x480 with 1 Axes>"
      ]
     },
     "metadata": {},
     "output_type": "display_data"
    }
   ],
   "source": [
    "# Let's inspect an image\n",
    "x, y = train_dl.dataset.__getitem__(0)\n",
    "\n",
    "print(x[0].shape)  # each image is a single-channel 28 x 28 image.\n",
    "print(y)  # one-hot encoding correponds to the number 5 label. \n",
    "plt.imshow(x.permute(1, 2, 0))\n",
    "plt.show()"
   ]
  },
  {
   "cell_type": "markdown",
   "metadata": {},
   "source": [
    "We need a loss function from Pytorch that satisfies the requirements above.  Luckily, `torch.nn.MLELoss` does just that. We'll also use the Adam optimizer.  As for the the model itself, the number of hidden layers will be four, including the final latent layer estimating $\\mathcal{Z}$. The starting input dimensionality is $28 \\times 28=784$ and we are going to select a latent space dimensionality space of $2$.  The remaining hidden layers will have sizes $112$ and $16$"
   ]
  },
  {
   "cell_type": "code",
   "execution_count": 6,
   "metadata": {},
   "outputs": [],
   "source": [
    "importlib.reload(vp)\n",
    "\n",
    "# Instantiate model\n",
    "n_epochs = 5\n",
    "n_layers = [784, 112, 16]\n",
    "n_latent = 2\n",
    "ae_model = vp.SymmetricLinearAE(n_layers, n_latent)\n",
    "ae_model = ae_model.to(device)  # apply model to device.\n",
    "\n",
    "# Select optimizer.\n",
    "lr = 1e-3\n",
    "opt = optim.Adam(ae_model.parameters(), lr=lr)\n",
    "\n",
    "# Select loss fuction.\n",
    "loss_fn = nn.MSELoss()"
   ]
  },
  {
   "cell_type": "code",
   "execution_count": 7,
   "metadata": {},
   "outputs": [
    {
     "name": "stdout",
     "output_type": "stream",
     "text": [
      "Batch [   64/60000] loss: 1.281652.\n",
      "Batch [12864/60000] loss: 1.084717.\n",
      "Batch [25664/60000] loss: 1.028333.\n",
      "Batch [38464/60000] loss: 0.995077.\n",
      "Batch [51264/60000] loss: 0.932134.\n",
      "Epoch 1 validation loss: 0.873623.\n",
      "---------------------------------------\n",
      "Batch [   64/60000] loss: 0.862482.\n",
      "Batch [12864/60000] loss: 0.885176.\n",
      "Batch [25664/60000] loss: 0.818812.\n",
      "Batch [38464/60000] loss: 0.773928.\n",
      "Batch [51264/60000] loss: 0.793860.\n",
      "Epoch 2 validation loss: 0.780067.\n",
      "---------------------------------------\n",
      "Batch [   64/60000] loss: 0.767086.\n",
      "Batch [12864/60000] loss: 0.807691.\n",
      "Batch [25664/60000] loss: 0.769923.\n",
      "Batch [38464/60000] loss: 0.744086.\n",
      "Batch [51264/60000] loss: 0.764226.\n",
      "Epoch 3 validation loss: 0.737473.\n",
      "---------------------------------------\n",
      "Batch [   64/60000] loss: 0.740444.\n",
      "Batch [12864/60000] loss: 0.737357.\n",
      "Batch [25664/60000] loss: 0.703102.\n",
      "Batch [38464/60000] loss: 0.716408.\n",
      "Batch [51264/60000] loss: 0.719964.\n",
      "Epoch 4 validation loss: 0.706321.\n",
      "---------------------------------------\n",
      "Batch [   64/60000] loss: 0.717167.\n",
      "Batch [12864/60000] loss: 0.718968.\n",
      "Batch [25664/60000] loss: 0.690060.\n",
      "Batch [38464/60000] loss: 0.691627.\n",
      "Batch [51264/60000] loss: 0.717198.\n",
      "Epoch 5 validation loss: 0.687729.\n",
      "---------------------------------------\n"
     ]
    }
   ],
   "source": [
    "importlib.reload(vp)\n",
    "# Train model.\n",
    "validation_loss = vp.train_AE(train_dl, validation_dl, ae_model, opt, loss_fn, n_epochs, device)"
   ]
  },
  {
   "cell_type": "code",
   "execution_count": 8,
   "metadata": {},
   "outputs": [
    {
     "name": "stdout",
     "output_type": "stream",
     "text": [
      "tensor([0, 0, 0, 1, 0, 0, 0, 0, 0, 0])\n"
     ]
    },
    {
     "data": {
      "image/png": "[encoded data removed]",
      "text/plain": [
       "<Figure size 640x480 with 1 Axes>"
      ]
     },
     "metadata": {},
     "output_type": "display_data"
    },
    {
     "data": {
      "image/png": "[encoded data removed]",
      "text/plain": [
       "<Figure size 640x480 with 1 Axes>"
      ]
     },
     "metadata": {},
     "output_type": "display_data"
    }
   ],
   "source": [
    "# Alright --- let's see how the model performs.  \n",
    "# Note that we have to unflatten the prediction, which we do using some torch.nn functionality.\n",
    "x_test, y_test = validation_dl.dataset.__getitem__(200)\n",
    "x_test = x_test.to(device)\n",
    "\n",
    "# We select the second dimension of the 2D output to unflatten into a 28x28 image.\n",
    "unflatten = nn.Unflatten(1, (28, 28))\n",
    "\n",
    "print(y_test)  # get encoding output. \n",
    "plt.imshow(x_test.to('cpu').permute(1, 2, 0))\n",
    "plt.show()\n",
    "\n",
    "x_pred = ae_model(x_test.unsqueeze(0))\n",
    "# Call the unflatten object.\n",
    "x_pred = unflatten(x_pred)\n",
    "\n",
    "plt.imshow(x_pred.detach().to('cpu').permute(1, 2, 0))\n",
    "plt.show()\n"
   ]
  },
  {
   "cell_type": "markdown",
   "metadata": {},
   "source": [
    "This is a pretty neat result thus far.  Let's consider a couple things real quick.  First, this is only a four-layer encoder that maps to the latent space $\\mathcal{Z}$.  We could increase the network depth, or we could even add convolutional layers --- after all, we are trying to encode images.  Second, this encoding exists in two dimensions: $\\mathbf{z}\\in \\mathcal{R}^2$.  This means we were able to start with $768$-dimension vectors and then find a two-dimensional representation that contains enought information about the training data to then recover the initial image with impressive accuracy.  \n",
    "\n",
    "Let's actually make use of this latent representation and run some clustering algorithms on the validation data set's encoded representations.  Before doing so, we'll collect the encoding predictions first, and the plot the bivariate encoding to see what we are working with."
   ]
  },
  {
   "cell_type": "code",
   "execution_count": null,
   "metadata": {},
   "outputs": [],
   "source": [
    "# Let's loop the validation data set through and get images and labels.\n",
    "encoding_batches, labels_batches = zip(\n",
    "    *[(ae_model.get_encoding(xb.to(device)), yb.to(device)) for xb, yb in validation_dl]\n",
    ")\n",
    "\n",
    "# Take the tuples of batches and concatenate.  Also, detach the tensors --- no need to track gradients.\n",
    "encodings = concat(encoding_batches).detach().cpu().numpy()\n",
    "# normed_encodings = vp.SymmetricLinearAE.normalize_encoding(encodings)\n",
    "labels = concat(labels_batches).detach().cpu().numpy()\n"
   ]
  },
  {
   "cell_type": "code",
   "execution_count": null,
   "metadata": {},
   "outputs": [],
   "source": [
    "# What does this 2D encoding look like?\n",
    "encoding_fig = ae_plots.plot_2Dencoding_predictions(\n",
    "    encodings, figsize=(8, 8), marker='.', color='black', alpha=0.2\n",
    ")\n",
    "plt.show()"
   ]
  },
  {
   "cell_type": "markdown",
   "metadata": {},
   "source": [
    "The data exhibits some clearly nonlinear behavior.  Regardless, let's play around with some classification algorithms and see how things look."
   ]
  },
  {
   "cell_type": "code",
   "execution_count": null,
   "metadata": {},
   "outputs": [],
   "source": [
    "# scikit-learn models must first be instantiated, then fit using the 'fit()' method.  \n",
    "# Keep in mind that the fitting sample must be fed in as a column vector of features. \n",
    "# Because we are fitting clustering algorithms, no labels (aka no independent variable values)\n",
    "# Need to be provided (specifically, the keyword argument 'y=None' for 'fit()').\n",
    "\n",
    "# Instantiate and fit a K-Means model with 10 clusters.\n",
    "km_model = KMeans(init='k-means++', n_clusters=10, n_init=8)\n",
    "km_model.fit(encodings)\n",
    "\n",
    "# Instantiate and fit a Spectral Clustering model with 10 clusters. This\n",
    "# algorithm is slower than k-means but does not assume densities are convex\n",
    "# or isotropic.\n",
    "sc_model = SpectralClustering(n_clusters=10, n_init=8)\n",
    "sc_model.fit(encodings)\n",
    "\n",
    "# Instantiate and fit a DBSCAN model.  This algorithm is more unsupervised,\n",
    "# finding the label count from the data.\n",
    "hds_model = HDBSCAN(min_cluster_size=200, min_samples=50)\n",
    "hds_model.fit(encodings)\n",
    "\n",
    "# Instantiate and fit a DBSCAN model.  This algorithm is more unsupervised,\n",
    "# finding the label count from the data.\n",
    "# bw = estimate_bandwidth(encodings, n_samples=500)\n",
    "ms_model = MeanShift(bandwidth=0.1)\n",
    "ms_model.fit(encodings)"
   ]
  },
  {
   "cell_type": "code",
   "execution_count": null,
   "metadata": {},
   "outputs": [],
   "source": [
    "# Let's plot the different clustering algorithm results.\n",
    "km_fig = ae_plots.plot_2Dencodings_withclusters(\n",
    "    encodings, km_model.labels_,\n",
    "    'K-Means', 10,\n",
    "    encoding_kwargs={'color': 'black', 'marker': '.', 'alpha': 0.2},\n",
    "    clusters_kwargs={'marker': 'o', 'alpha': 0.15}\n",
    ")\n",
    "plt.show()\n",
    "\n",
    "sc_fig = ae_plots.plot_2Dencodings_withclusters(\n",
    "    encodings, sc_model.labels_,\n",
    "    'Spectral Clustering', 10,\n",
    "    encoding_kwargs={'color': 'black', 'marker': '.', 'alpha': 0.2},\n",
    "    clusters_kwargs={'marker': 'o', 'alpha': 0.15}\n",
    ")\n",
    "plt.show()\n",
    "\n",
    "hds_fig = ae_plots.plot_2Dencodings_withclusters(\n",
    "    encodings, hds_model.labels_,\n",
    "    'HDBSCAN', hds_model.n_features_in_,\n",
    "    encoding_kwargs={'color': 'black', 'marker': '.', 'alpha': 0.2},\n",
    "    clusters_kwargs={'marker': 'o', 'alpha': 0.15}\n",
    ")\n",
    "plt.show()\n",
    "\n",
    "ms_fig = ae_plots.plot_2Dencodings_withclusters(\n",
    "    encodings, ms_model.labels_,\n",
    "    'Mean Shift', ms_model.n_features_in_,\n",
    "    encoding_kwargs={'color': 'black', 'marker': '.', 'alpha': 0.2},\n",
    "    clusters_kwargs={'marker': 'o', 'alpha': 0.15}\n",
    ")\n",
    "plt.show()"
   ]
  },
  {
   "cell_type": "markdown",
   "metadata": {},
   "source": [
    "## Project 2.2: ConvNet Autoencoder.\n",
    "\n",
    "Already we are running into issues discovering clusters in the encoded representation.  The encoded representation is not well-bahaved, featuring complex desnity curvature including varying length scales.  That alone hints that our encoding may not be very good, even if the decoder can recover a decent prediction from the latent space representation.  It could very well be that only having two latent features is simply insufficient to describe variation in our training set.  \n",
    "\n",
    "Recall that we are trying to find a latent representation of image data --- maybe it makes sense to instead build an autoencoder with ConvNet layers. Unfortunately, this is easier said then done, at least if we want our latent space to be two dimensional.   "
   ]
  },
  {
   "cell_type": "code",
   "execution_count": 5,
   "metadata": {},
   "outputs": [],
   "source": [
    "importlib.reload(vp)\n",
    "\n",
    "n_epochs = 5\n",
    "channels = [1, 4, 8]\n",
    "k_layers = [3, 3]\n",
    "n_flat = 49\n",
    "n_latent = 2\n",
    "device = 'cpu'\n",
    "conv_ae_model = vp.ConvNetAE(channels, k_layers, n_flat, n_latent).to(device)\n",
    "\n",
    "# Select optimizer.\n",
    "lr = 1e-3\n",
    "opt = optim.Adam(conv_ae_model.parameters(), lr=lr)\n",
    "\n",
    "# Select loss fuction.\n",
    "loss_fn = nn.MSELoss()\n"
   ]
  },
  {
   "cell_type": "code",
   "execution_count": 15,
   "metadata": {},
   "outputs": [
    {
     "name": "stdout",
     "output_type": "stream",
     "text": [
      "2\n"
     ]
    }
   ],
   "source": [
    "for i in range(len(k_layers), 1, -1):\n",
    "    print(i)"
   ]
  },
  {
   "cell_type": "code",
   "execution_count": 6,
   "metadata": {},
   "outputs": [
    {
     "ename": "RuntimeError",
     "evalue": "mat1 and mat2 shapes cannot be multiplied (64x392 and 49x2)",
     "output_type": "error",
     "traceback": [
      "\u001b[0;31m---------------------------------------------------------------------------\u001b[0m",
      "\u001b[0;31mRuntimeError\u001b[0m                              Traceback (most recent call last)",
      "Cell \u001b[0;32mIn[6], line 3\u001b[0m\n\u001b[1;32m      1\u001b[0m importlib\u001b[39m.\u001b[39mreload(vp)\n\u001b[1;32m      2\u001b[0m \u001b[39m# Train model.\u001b[39;00m\n\u001b[0;32m----> 3\u001b[0m validation_loss \u001b[39m=\u001b[39m vp\u001b[39m.\u001b[39;49mtrain_AE(train_dl, validation_dl, conv_ae_model, opt, loss_fn, n_epochs, device)\n",
      "File \u001b[0;32m~/Documents/misc_projects/deeplearning_practice/ptmodels/vae_pytorch.py:286\u001b[0m, in \u001b[0;36mtrain_AE\u001b[0;34m(train_dl, valid_dl, model, opt, loss_fn, n_epoch, device)\u001b[0m\n\u001b[1;32m    283\u001b[0m xb \u001b[39m=\u001b[39m xb\u001b[39m.\u001b[39mto(device)\n\u001b[1;32m    285\u001b[0m \u001b[39m# Get AE output vector.\u001b[39;00m\n\u001b[0;32m--> 286\u001b[0m reconstruction \u001b[39m=\u001b[39m model(xb)\n\u001b[1;32m    288\u001b[0m \u001b[39m# Calculate loss.\u001b[39;00m\n\u001b[1;32m    289\u001b[0m loss \u001b[39m=\u001b[39m loss_fn(reconstruction, torch\u001b[39m.\u001b[39mnn\u001b[39m.\u001b[39mFlatten()(xb))\n",
      "File \u001b[0;32m~/mambaforge/envs/dlpractice/lib/python3.10/site-packages/torch/nn/modules/module.py:1501\u001b[0m, in \u001b[0;36mModule._call_impl\u001b[0;34m(self, *args, **kwargs)\u001b[0m\n\u001b[1;32m   1496\u001b[0m \u001b[39m# If we don't have any hooks, we want to skip the rest of the logic in\u001b[39;00m\n\u001b[1;32m   1497\u001b[0m \u001b[39m# this function, and just call forward.\u001b[39;00m\n\u001b[1;32m   1498\u001b[0m \u001b[39mif\u001b[39;00m \u001b[39mnot\u001b[39;00m (\u001b[39mself\u001b[39m\u001b[39m.\u001b[39m_backward_hooks \u001b[39mor\u001b[39;00m \u001b[39mself\u001b[39m\u001b[39m.\u001b[39m_backward_pre_hooks \u001b[39mor\u001b[39;00m \u001b[39mself\u001b[39m\u001b[39m.\u001b[39m_forward_hooks \u001b[39mor\u001b[39;00m \u001b[39mself\u001b[39m\u001b[39m.\u001b[39m_forward_pre_hooks\n\u001b[1;32m   1499\u001b[0m         \u001b[39mor\u001b[39;00m _global_backward_pre_hooks \u001b[39mor\u001b[39;00m _global_backward_hooks\n\u001b[1;32m   1500\u001b[0m         \u001b[39mor\u001b[39;00m _global_forward_hooks \u001b[39mor\u001b[39;00m _global_forward_pre_hooks):\n\u001b[0;32m-> 1501\u001b[0m     \u001b[39mreturn\u001b[39;00m forward_call(\u001b[39m*\u001b[39;49margs, \u001b[39m*\u001b[39;49m\u001b[39m*\u001b[39;49mkwargs)\n\u001b[1;32m   1502\u001b[0m \u001b[39m# Do not call functions when jit is used\u001b[39;00m\n\u001b[1;32m   1503\u001b[0m full_backward_hooks, non_full_backward_hooks \u001b[39m=\u001b[39m [], []\n",
      "File \u001b[0;32m~/Documents/misc_projects/deeplearning_practice/ptmodels/vae_pytorch.py:28\u001b[0m, in \u001b[0;36mBaseAE.forward\u001b[0;34m(self, x)\u001b[0m\n\u001b[1;32m     19\u001b[0m \u001b[39mdef\u001b[39;00m \u001b[39mforward\u001b[39m(\u001b[39mself\u001b[39m, x: torch\u001b[39m.\u001b[39mTensor) \u001b[39m-\u001b[39m\u001b[39m>\u001b[39m torch\u001b[39m.\u001b[39mTensor:\n\u001b[1;32m     20\u001b[0m \u001b[39m    \u001b[39m\u001b[39m\"\"\" Forward call for autoencoder.\u001b[39;00m\n\u001b[1;32m     21\u001b[0m \n\u001b[1;32m     22\u001b[0m \u001b[39m    Args:\u001b[39;00m\n\u001b[0;32m   (...)\u001b[0m\n\u001b[1;32m     26\u001b[0m \u001b[39m        torch.Tensor: Predicted batch tensor.\u001b[39;00m\n\u001b[1;32m     27\u001b[0m \u001b[39m    \"\"\"\u001b[39;00m\n\u001b[0;32m---> 28\u001b[0m     x \u001b[39m=\u001b[39m \u001b[39mself\u001b[39;49m\u001b[39m.\u001b[39;49mencoder(x)\n\u001b[1;32m     29\u001b[0m     x \u001b[39m=\u001b[39m \u001b[39mself\u001b[39m\u001b[39m.\u001b[39mdecoder(x)\n\u001b[1;32m     30\u001b[0m     \u001b[39mreturn\u001b[39;00m \u001b[39mself\u001b[39m\u001b[39m.\u001b[39mlast_activation(x)\n",
      "File \u001b[0;32m~/mambaforge/envs/dlpractice/lib/python3.10/site-packages/torch/nn/modules/module.py:1501\u001b[0m, in \u001b[0;36mModule._call_impl\u001b[0;34m(self, *args, **kwargs)\u001b[0m\n\u001b[1;32m   1496\u001b[0m \u001b[39m# If we don't have any hooks, we want to skip the rest of the logic in\u001b[39;00m\n\u001b[1;32m   1497\u001b[0m \u001b[39m# this function, and just call forward.\u001b[39;00m\n\u001b[1;32m   1498\u001b[0m \u001b[39mif\u001b[39;00m \u001b[39mnot\u001b[39;00m (\u001b[39mself\u001b[39m\u001b[39m.\u001b[39m_backward_hooks \u001b[39mor\u001b[39;00m \u001b[39mself\u001b[39m\u001b[39m.\u001b[39m_backward_pre_hooks \u001b[39mor\u001b[39;00m \u001b[39mself\u001b[39m\u001b[39m.\u001b[39m_forward_hooks \u001b[39mor\u001b[39;00m \u001b[39mself\u001b[39m\u001b[39m.\u001b[39m_forward_pre_hooks\n\u001b[1;32m   1499\u001b[0m         \u001b[39mor\u001b[39;00m _global_backward_pre_hooks \u001b[39mor\u001b[39;00m _global_backward_hooks\n\u001b[1;32m   1500\u001b[0m         \u001b[39mor\u001b[39;00m _global_forward_hooks \u001b[39mor\u001b[39;00m _global_forward_pre_hooks):\n\u001b[0;32m-> 1501\u001b[0m     \u001b[39mreturn\u001b[39;00m forward_call(\u001b[39m*\u001b[39;49margs, \u001b[39m*\u001b[39;49m\u001b[39m*\u001b[39;49mkwargs)\n\u001b[1;32m   1502\u001b[0m \u001b[39m# Do not call functions when jit is used\u001b[39;00m\n\u001b[1;32m   1503\u001b[0m full_backward_hooks, non_full_backward_hooks \u001b[39m=\u001b[39m [], []\n",
      "File \u001b[0;32m~/mambaforge/envs/dlpractice/lib/python3.10/site-packages/torch/nn/modules/container.py:217\u001b[0m, in \u001b[0;36mSequential.forward\u001b[0;34m(self, input)\u001b[0m\n\u001b[1;32m    215\u001b[0m \u001b[39mdef\u001b[39;00m \u001b[39mforward\u001b[39m(\u001b[39mself\u001b[39m, \u001b[39minput\u001b[39m):\n\u001b[1;32m    216\u001b[0m     \u001b[39mfor\u001b[39;00m module \u001b[39min\u001b[39;00m \u001b[39mself\u001b[39m:\n\u001b[0;32m--> 217\u001b[0m         \u001b[39minput\u001b[39m \u001b[39m=\u001b[39m module(\u001b[39minput\u001b[39;49m)\n\u001b[1;32m    218\u001b[0m     \u001b[39mreturn\u001b[39;00m \u001b[39minput\u001b[39m\n",
      "File \u001b[0;32m~/mambaforge/envs/dlpractice/lib/python3.10/site-packages/torch/nn/modules/module.py:1501\u001b[0m, in \u001b[0;36mModule._call_impl\u001b[0;34m(self, *args, **kwargs)\u001b[0m\n\u001b[1;32m   1496\u001b[0m \u001b[39m# If we don't have any hooks, we want to skip the rest of the logic in\u001b[39;00m\n\u001b[1;32m   1497\u001b[0m \u001b[39m# this function, and just call forward.\u001b[39;00m\n\u001b[1;32m   1498\u001b[0m \u001b[39mif\u001b[39;00m \u001b[39mnot\u001b[39;00m (\u001b[39mself\u001b[39m\u001b[39m.\u001b[39m_backward_hooks \u001b[39mor\u001b[39;00m \u001b[39mself\u001b[39m\u001b[39m.\u001b[39m_backward_pre_hooks \u001b[39mor\u001b[39;00m \u001b[39mself\u001b[39m\u001b[39m.\u001b[39m_forward_hooks \u001b[39mor\u001b[39;00m \u001b[39mself\u001b[39m\u001b[39m.\u001b[39m_forward_pre_hooks\n\u001b[1;32m   1499\u001b[0m         \u001b[39mor\u001b[39;00m _global_backward_pre_hooks \u001b[39mor\u001b[39;00m _global_backward_hooks\n\u001b[1;32m   1500\u001b[0m         \u001b[39mor\u001b[39;00m _global_forward_hooks \u001b[39mor\u001b[39;00m _global_forward_pre_hooks):\n\u001b[0;32m-> 1501\u001b[0m     \u001b[39mreturn\u001b[39;00m forward_call(\u001b[39m*\u001b[39;49margs, \u001b[39m*\u001b[39;49m\u001b[39m*\u001b[39;49mkwargs)\n\u001b[1;32m   1502\u001b[0m \u001b[39m# Do not call functions when jit is used\u001b[39;00m\n\u001b[1;32m   1503\u001b[0m full_backward_hooks, non_full_backward_hooks \u001b[39m=\u001b[39m [], []\n",
      "File \u001b[0;32m~/mambaforge/envs/dlpractice/lib/python3.10/site-packages/torch/nn/modules/linear.py:114\u001b[0m, in \u001b[0;36mLinear.forward\u001b[0;34m(self, input)\u001b[0m\n\u001b[1;32m    113\u001b[0m \u001b[39mdef\u001b[39;00m \u001b[39mforward\u001b[39m(\u001b[39mself\u001b[39m, \u001b[39minput\u001b[39m: Tensor) \u001b[39m-\u001b[39m\u001b[39m>\u001b[39m Tensor:\n\u001b[0;32m--> 114\u001b[0m     \u001b[39mreturn\u001b[39;00m F\u001b[39m.\u001b[39;49mlinear(\u001b[39minput\u001b[39;49m, \u001b[39mself\u001b[39;49m\u001b[39m.\u001b[39;49mweight, \u001b[39mself\u001b[39;49m\u001b[39m.\u001b[39;49mbias)\n",
      "\u001b[0;31mRuntimeError\u001b[0m: mat1 and mat2 shapes cannot be multiplied (64x392 and 49x2)"
     ]
    }
   ],
   "source": [
    "importlib.reload(vp)\n",
    "# Train model.\n",
    "validation_loss = vp.train_AE(train_dl, validation_dl, conv_ae_model, opt, loss_fn, n_epochs, device)"
   ]
  },
  {
   "cell_type": "code",
   "execution_count": null,
   "metadata": {},
   "outputs": [],
   "source": []
  }
 ],
 "metadata": {
  "kernelspec": {
   "display_name": "dlpractice",
   "language": "python",
   "name": "python3"
  },
  "language_info": {
   "codemirror_mode": {
    "name": "ipython",
    "version": 3
   },
   "file_extension": ".py",
   "mimetype": "text/x-python",
   "name": "python",
   "nbconvert_exporter": "python",
   "pygments_lexer": "ipython3",
   "version": "3.10.12"
  },
  "orig_nbformat": 4
 },
 "nbformat": 4,
 "nbformat_minor": 2
}

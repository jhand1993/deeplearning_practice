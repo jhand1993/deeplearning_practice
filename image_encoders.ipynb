{
 "cells": [
  {
   "cell_type": "code",
   "execution_count": 28,
   "metadata": {},
   "outputs": [
    {
     "name": "stdout",
     "output_type": "stream",
     "text": [
      "Using cuda.\n"
     ]
    }
   ],
   "source": [
    "import importlib\n",
    "from pathlib import Path\n",
    "\n",
    "# from torch.utils.data import DataLoader, random_split\n",
    "from torch import cuda, nn, optim\n",
    "from torch.backends import mps\n",
    "\n",
    "import matplotlib.pyplot as plt\n",
    "import numpy as np\n",
    "\n",
    "import datasets.mnist_loader as ml\n",
    "from ptmodels import vae_pytorch as vp\n",
    "\n",
    "# Use a gpu or M1 chipset to train PyTorch networks if you have it.\n",
    "if cuda.is_available():\n",
    "    device = 'cuda'\n",
    "\n",
    "elif mps.is_available():\n",
    "    device = 'mps'\n",
    "\n",
    "else: \n",
    "    device = 'cpu'\n",
    "\n",
    "print(f'Using {device}.')"
   ]
  },
  {
   "cell_type": "markdown",
   "metadata": {},
   "source": [
    "# Project 2: Autoencoders and Variational Autoencoders.\n",
    "In this project, we are going to first implement a couple autoencoders trained on MNIST-compatible data sets for dimensionality reduction. Afterwards, we'll then create a generative model using a variational autoencoder. \n",
    "\n",
    "## Project 2.1: Autoencoders for Dimensionality Reduction.\n",
    "High dimensionality data frequently has more dimensions than is needed to perform regression, classification, or clustering.  More formally, there is a lot of covariance within most data, covariance that reduces the intrinsic dimensionality of the data set.  Think of image data --- a $128 \\times 128$ pixel image can be thought of as a vector $\\mathbf{x}$ which resides in a 416384$-dimensional vector space. That does not mean there are $16384$ unique features.  Intuitively, we know there are less features in the data, and those features are captured by correlations between pixels.  In other words, we could find a mapping from the starting representation $\\mathbf{x}$ to a reduced-dimension latent representation $\\mathbf{z}\\in \\mathcal{R}^m$, where hopefully $m \\ll 16384$.  We can then use more approachable latent representation $\\mathbf{z}\\in \\mathcal{Z}$ to analyze the starting dataset $\\mathbf{x}\\in \\mathcal{X}$.\n",
    "\n",
    "An autoencoder does this by finding three things: a latent representation $\\mathbf{z}\\in \\mathcal{Z}$, an encoding function $E_{\\phi}(\\mathbf{x})=\\mathbf{z}$ parameterized by $\\phi$, and a decoding function $D_{\\theta}(\\mathbf{z})=\\mathbf{x}$ parameterized by $\\theta$. Here, we will simultaneously train two dense, multi-layer perceptrons to estimate functions $E_{\\phi}$ and $D_{\\theta}$, recovering the latent space $\\mathcal{Z}$ in the process. \n",
    "\n",
    "Training the perceptron networks requires a loss function.  Although the data we are training on is labeled, we will not be using them.  Instead, we are going to perform unsupervised learning.  Specifically, we'll are going to optimize by minimizing the 'distance' between the starting vector $\\mathbf{x}$ and its predicted decoding $D_{\\phi}(E_{\\theta}(\\mathbf{x}))$: \n",
    "\n",
    "$L(\\mathcal{X}|\\phi, \\theta)=-\\frac{1}{N}\\sum^N_{i=1}L_2(\\mathbf{x}_i, D_{\\phi}(E_{\\theta}(\\mathbf{x}_i)))$\n",
    "\n",
    "where $N$ is the size of the training data sample $\\mathcal{X}$ and $L_2(\\mathbf{x}, \\mathbf{x}^{\\prime})=|| \\mathbf{x} - \\mathbf{x}^{\\prime} ||^2$ is the L2 loss (basically, the Euclidian distance up to some multiplicative constant). To train, we will minimize $L(\\mathcal{X}|\\phi, \\theta)$ with respect to the parameters $\\phi$ and $\\theta$.\n",
    "\n",
    "Enough math.  Let's start setting up the model to train!"
   ]
  },
  {
   "cell_type": "code",
   "execution_count": 11,
   "metadata": {},
   "outputs": [],
   "source": [
    "importlib.reload(ml)\n",
    "# Let's load some PyTorch DataLoaders we'll be using using a wrapper function in the 'mnist_loader.py' module.\n",
    "train_dl, validation_dl = ml.load_MNISTlike(\n",
    "    target_set='MNIST', batch_size_train=64, batch_size_validation=128\n",
    ")"
   ]
  },
  {
   "cell_type": "code",
   "execution_count": 27,
   "metadata": {},
   "outputs": [
    {
     "name": "stdout",
     "output_type": "stream",
     "text": [
      "torch.Size([28, 28])\n",
      "tensor([0, 0, 0, 0, 0, 1, 0, 0, 0, 0])\n"
     ]
    },
    {
     "data": {
      "image/png": "[encoded data removed]",
      "text/plain": [
       "<Figure size 640x480 with 1 Axes>"
      ]
     },
     "metadata": {},
     "output_type": "display_data"
    }
   ],
   "source": [
    "# Let's inspect an image\n",
    "x, y = train_dl.dataset.__getitem__(0)\n",
    "\n",
    "print(x[0].shape)  # each image is a single-channel 28 x 28 image.\n",
    "print(y)  # one-hot encoding correponds to the number 5 label. \n",
    "plt.imshow(x.permute(1, 2, 0))\n",
    "plt.show()"
   ]
  },
  {
   "cell_type": "markdown",
   "metadata": {},
   "source": [
    "We need a loss function from Pytorch that satisfies the requirements above.  Luckily, `torch.nn.MLELoss` does just that. We'll also use the Adam optimizer.  As for the the model itself, the number of hidden layers will be four, including the final latent layer estimating $\\mathcal{Z}$. The starting input dimensionality is $28 \\times 28=784$ and we are going to select a latent space dimensionality space of $2$.  The remaining hidden layers will have sizes $112$ and $16$"
   ]
  },
  {
   "cell_type": "code",
   "execution_count": 48,
   "metadata": {},
   "outputs": [],
   "source": [
    "# Instantiate model\n",
    "n_epochs = 5\n",
    "n_layers = [784, 112, 16]\n",
    "n_latent = 2\n",
    "ae_model = vp.SymmetricLinearAE(n_layers, n_latent)\n",
    "ae_model = ae_model.to(device)  # apply model to device.\n",
    "\n",
    "# Select optimizer.\n",
    "lr = 1e-3\n",
    "opt = optim.Adam(ae_model.parameters(), lr=lr)\n",
    "\n",
    "# Select loss fuction.\n",
    "loss_fn = nn.MSELoss()"
   ]
  },
  {
   "cell_type": "code",
   "execution_count": 49,
   "metadata": {},
   "outputs": [
    {
     "name": "stdout",
     "output_type": "stream",
     "text": [
      "Batch [   64/60000] loss: 1.276754.\n",
      "Batch [12864/60000] loss: 1.087383.\n",
      "Batch [25664/60000] loss: 0.983046.\n",
      "Batch [38464/60000] loss: 0.944331.\n",
      "Batch [51264/60000] loss: 0.940921.\n",
      "Epoch 1 validation loss: 0.880053.\n",
      "---------------------------------------\n",
      "Batch [   64/60000] loss: 0.849473.\n",
      "Batch [12864/60000] loss: 0.859476.\n",
      "Batch [25664/60000] loss: 0.868241.\n",
      "Batch [38464/60000] loss: 0.818047.\n",
      "Batch [51264/60000] loss: 0.812433.\n",
      "Epoch 2 validation loss: 0.773760.\n",
      "---------------------------------------\n",
      "Batch [   64/60000] loss: 0.781579.\n",
      "Batch [12864/60000] loss: 0.758076.\n",
      "Batch [25664/60000] loss: 0.769973.\n",
      "Batch [38464/60000] loss: 0.753795.\n",
      "Batch [51264/60000] loss: 0.737745.\n",
      "Epoch 3 validation loss: 0.727699.\n",
      "---------------------------------------\n",
      "Batch [   64/60000] loss: 0.757657.\n",
      "Batch [12864/60000] loss: 0.795113.\n",
      "Batch [25664/60000] loss: 0.720206.\n",
      "Batch [38464/60000] loss: 0.711830.\n",
      "Batch [51264/60000] loss: 0.696663.\n",
      "Epoch 4 validation loss: 0.701322.\n",
      "---------------------------------------\n",
      "Batch [   64/60000] loss: 0.722829.\n",
      "Batch [12864/60000] loss: 0.714840.\n",
      "Batch [25664/60000] loss: 0.714466.\n",
      "Batch [38464/60000] loss: 0.716488.\n",
      "Batch [51264/60000] loss: 0.718416.\n",
      "Epoch 5 validation loss: 0.686852.\n",
      "---------------------------------------\n"
     ]
    }
   ],
   "source": [
    "importlib.reload(vp)\n",
    "# Train model.\n",
    "validation_loss = vp.train_AE(train_dl, validation_dl, ae_model, opt, loss_fn, n_epochs, device)"
   ]
  },
  {
   "cell_type": "code",
   "execution_count": 69,
   "metadata": {},
   "outputs": [
    {
     "name": "stdout",
     "output_type": "stream",
     "text": [
      "tensor([0, 0, 0, 1, 0, 0, 0, 0, 0, 0])\n"
     ]
    },
    {
     "data": {
      "image/png": "[encoded data removed]",
      "text/plain": [
       "<Figure size 640x480 with 1 Axes>"
      ]
     },
     "metadata": {},
     "output_type": "display_data"
    },
    {
     "data": {
      "image/png": "[encoded data removed]",
      "text/plain": [
       "<Figure size 640x480 with 1 Axes>"
      ]
     },
     "metadata": {},
     "output_type": "display_data"
    }
   ],
   "source": [
    "# Alright --- let's see how the model performs.  Note that we have to unflatten the prediction, which we do using some torch.nn functionality.\n",
    "\n",
    "x_test, y_test = validation_dl.dataset.__getitem__(200)\n",
    "x_test = x_test.to(device)\n",
    "\n",
    "# We select the second dimension of the 2D output to unflatten into a 28x28 image.\n",
    "unflatten = nn.Unflatten(1, (28, 28))\n",
    "\n",
    "print(y_test)  # get encoding output. \n",
    "plt.imshow(x_test.to('cpu').permute(1, 2, 0))\n",
    "plt.show()\n",
    "\n",
    "x_pred = ae_model(x_test.unsqueeze(0))\n",
    "# Call the unflatten object.\n",
    "x_pred = unflatten(x_pred)\n",
    "\n",
    "plt.imshow(x_pred.detach().to('cpu').permute(1, 2, 0))\n",
    "plt.show()\n"
   ]
  },
  {
   "cell_type": "code",
   "execution_count": null,
   "metadata": {},
   "outputs": [],
   "source": []
  }
 ],
 "metadata": {
  "kernelspec": {
   "display_name": "dlpractice",
   "language": "python",
   "name": "python3"
  },
  "language_info": {
   "codemirror_mode": {
    "name": "ipython",
    "version": 3
   },
   "file_extension": ".py",
   "mimetype": "text/x-python",
   "name": "python",
   "nbconvert_exporter": "python",
   "pygments_lexer": "ipython3",
   "version": "3.10.12"
  },
  "orig_nbformat": 4
 },
 "nbformat": 4,
 "nbformat_minor": 2
}
